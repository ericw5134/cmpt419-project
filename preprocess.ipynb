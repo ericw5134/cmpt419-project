{
 "cells": [
  {
   "cell_type": "markdown",
   "id": "9793790e-2927-460e-98d7-ec3a568a112f",
   "metadata": {},
   "source": [
    "# Some Preprocessing stuff that needs to be run\n",
    "# Note: In order to run, follow these steps:\n",
    "## 1: cmpt419-project/data/ourData has all the .mp4 files\n",
    "## 2: run video_to_imgseq and video_to_audio"
   ]
  },
  {
   "cell_type": "code",
   "execution_count": 1,
   "id": "21f3488d-d3c0-46dc-a535-daf40f0324b5",
   "metadata": {},
   "outputs": [],
   "source": [
    "import numpy as np\n",
    "import matplotlib.pyplot as plt\n",
    "import pandas as pd\n",
    "from sklearn.model_selection import train_test_split\n",
    "\n",
    "import os\n",
    "from pathlib import Path"
   ]
  },
  {
   "cell_type": "code",
   "execution_count": 2,
   "id": "84ff2aa1-d71b-406a-a434-aa3cfca63f0a",
   "metadata": {},
   "outputs": [],
   "source": [
    "directory = os.getcwd() + '\\\\data\\\\ourData'"
   ]
  },
  {
   "cell_type": "code",
   "execution_count": 3,
   "id": "12e1089e-091e-4614-8541-f96985827a86",
   "metadata": {},
   "outputs": [],
   "source": [
    "data_names = {\"name\":[], \"label\":[]}\n",
    "for folder in sorted(os.listdir(directory)):  \n",
    "    if (folder[0:5] == \"frame\"):\n",
    "        data_names[\"name\"].append(folder)\n",
    "        data_names[\"label\"].append(folder.split(\"_\")[2][0:4])"
   ]
  },
  {
   "cell_type": "code",
   "execution_count": 4,
   "id": "a6e1c226-8529-4105-8f8b-6deab1da5327",
   "metadata": {},
   "outputs": [
    {
     "data": {
      "text/html": [
       "<div>\n",
       "<style scoped>\n",
       "    .dataframe tbody tr th:only-of-type {\n",
       "        vertical-align: middle;\n",
       "    }\n",
       "\n",
       "    .dataframe tbody tr th {\n",
       "        vertical-align: top;\n",
       "    }\n",
       "\n",
       "    .dataframe thead th {\n",
       "        text-align: right;\n",
       "    }\n",
       "</style>\n",
       "<table border=\"1\" class=\"dataframe\">\n",
       "  <thead>\n",
       "    <tr style=\"text-align: right;\">\n",
       "      <th></th>\n",
       "      <th>name</th>\n",
       "      <th>label</th>\n",
       "    </tr>\n",
       "  </thead>\n",
       "  <tbody>\n",
       "    <tr>\n",
       "      <th>0</th>\n",
       "      <td>frames_eric_excitement1</td>\n",
       "      <td>exci</td>\n",
       "    </tr>\n",
       "    <tr>\n",
       "      <th>1</th>\n",
       "      <td>frames_eric_excitement10</td>\n",
       "      <td>exci</td>\n",
       "    </tr>\n",
       "    <tr>\n",
       "      <th>2</th>\n",
       "      <td>frames_eric_excitement11</td>\n",
       "      <td>exci</td>\n",
       "    </tr>\n",
       "    <tr>\n",
       "      <th>3</th>\n",
       "      <td>frames_eric_excitement12</td>\n",
       "      <td>exci</td>\n",
       "    </tr>\n",
       "    <tr>\n",
       "      <th>4</th>\n",
       "      <td>frames_eric_excitement2</td>\n",
       "      <td>exci</td>\n",
       "    </tr>\n",
       "    <tr>\n",
       "      <th>...</th>\n",
       "      <td>...</td>\n",
       "      <td>...</td>\n",
       "    </tr>\n",
       "    <tr>\n",
       "      <th>198</th>\n",
       "      <td>frames_trevor_rage5</td>\n",
       "      <td>rage</td>\n",
       "    </tr>\n",
       "    <tr>\n",
       "      <th>199</th>\n",
       "      <td>frames_trevor_rage6</td>\n",
       "      <td>rage</td>\n",
       "    </tr>\n",
       "    <tr>\n",
       "      <th>200</th>\n",
       "      <td>frames_trevor_rage7</td>\n",
       "      <td>rage</td>\n",
       "    </tr>\n",
       "    <tr>\n",
       "      <th>201</th>\n",
       "      <td>frames_trevor_rage8</td>\n",
       "      <td>rage</td>\n",
       "    </tr>\n",
       "    <tr>\n",
       "      <th>202</th>\n",
       "      <td>frames_trevor_rage9</td>\n",
       "      <td>rage</td>\n",
       "    </tr>\n",
       "  </tbody>\n",
       "</table>\n",
       "<p>203 rows × 2 columns</p>\n",
       "</div>"
      ],
      "text/plain": [
       "                         name label\n",
       "0     frames_eric_excitement1  exci\n",
       "1    frames_eric_excitement10  exci\n",
       "2    frames_eric_excitement11  exci\n",
       "3    frames_eric_excitement12  exci\n",
       "4     frames_eric_excitement2  exci\n",
       "..                        ...   ...\n",
       "198       frames_trevor_rage5  rage\n",
       "199       frames_trevor_rage6  rage\n",
       "200       frames_trevor_rage7  rage\n",
       "201       frames_trevor_rage8  rage\n",
       "202       frames_trevor_rage9  rage\n",
       "\n",
       "[203 rows x 2 columns]"
      ]
     },
     "execution_count": 4,
     "metadata": {},
     "output_type": "execute_result"
    }
   ],
   "source": [
    "data_names_df = pd.DataFrame.from_dict(data_names)\n",
    "data_names_df"
   ]
  },
  {
   "cell_type": "code",
   "execution_count": 5,
   "id": "5de727e6-bfc1-4fcc-a867-17c66f20ff20",
   "metadata": {},
   "outputs": [
    {
     "data": {
      "text/plain": [
       "label\n",
       "exci    51\n",
       "fear    48\n",
       "frus    17\n",
       "rage    87\n",
       "Name: label, dtype: int64"
      ]
     },
     "execution_count": 5,
     "metadata": {},
     "output_type": "execute_result"
    }
   ],
   "source": [
    "data_names_df.groupby(['label'])['label'].count()"
   ]
  },
  {
   "cell_type": "code",
   "execution_count": 6,
   "id": "4132cefa-fff5-4a6e-99ec-50651bcb3c72",
   "metadata": {},
   "outputs": [],
   "source": [
    "X_train, X_test, y_train, y_test = train_test_split(data_names_df[\"name\"], data_names_df[\"label\"], test_size=0.3, random_state=2)"
   ]
  },
  {
   "cell_type": "code",
   "execution_count": 7,
   "id": "0841acca-f5d7-41db-adeb-75df3ba39988",
   "metadata": {},
   "outputs": [],
   "source": [
    "to_test = X_test.sort_values(ascending=True)"
   ]
  },
  {
   "cell_type": "code",
   "execution_count": 8,
   "id": "aef6836e-a9c1-4cad-8b91-44fed71aae16",
   "metadata": {},
   "outputs": [
    {
     "data": {
      "text/plain": [
       "2      frames_eric_excitement11\n",
       "3      frames_eric_excitement12\n",
       "5       frames_eric_excitement3\n",
       "6       frames_eric_excitement4\n",
       "9       frames_eric_excitement7\n",
       "                 ...           \n",
       "185        frames_trevor_rage11\n",
       "190        frames_trevor_rage16\n",
       "194         frames_trevor_rage2\n",
       "196         frames_trevor_rage3\n",
       "202         frames_trevor_rage9\n",
       "Name: name, Length: 61, dtype: object"
      ]
     },
     "execution_count": 8,
     "metadata": {},
     "output_type": "execute_result"
    }
   ],
   "source": [
    "to_test"
   ]
  },
  {
   "cell_type": "code",
   "execution_count": 9,
   "id": "3e26168e-927f-4225-946e-d1b2ed0316cc",
   "metadata": {},
   "outputs": [
    {
     "data": {
      "text/plain": [
       "24       frames_eric_frustration3\n",
       "94           frames_sepehr_fear12\n",
       "106           frames_sepehr_fear5\n",
       "8         frames_eric_excitement6\n",
       "178    frames_trevor_frustration3\n",
       "                  ...            \n",
       "43             frames_eric_rage20\n",
       "22      frames_eric_frustration10\n",
       "72              frames_eric_rage9\n",
       "15              frames_eric_fear4\n",
       "168           frames_trevor_fear2\n",
       "Name: name, Length: 142, dtype: object"
      ]
     },
     "execution_count": 9,
     "metadata": {},
     "output_type": "execute_result"
    }
   ],
   "source": [
    "X_train"
   ]
  },
  {
   "cell_type": "code",
   "execution_count": 10,
   "id": "1cdf03fd-230a-4976-8ada-cfd67a09e175",
   "metadata": {},
   "outputs": [],
   "source": [
    "to_test.to_csv('test_data.csv', index=False) "
   ]
  },
  {
   "cell_type": "markdown",
   "id": "d779b36d-fa11-4207-849f-a21cf517905b",
   "metadata": {},
   "source": [
    "# Training Model Starts Here"
   ]
  },
  {
   "cell_type": "code",
   "execution_count": 11,
   "id": "d28db565-2ac1-4813-9804-7696e076e094",
   "metadata": {},
   "outputs": [],
   "source": [
    "import torch\n",
    "import torch.nn as nn\n",
    "import torch.optim as optim\n",
    "from torch.utils.data import DataLoader\n",
    "from torchvision import transforms\n",
    "from torchaudio.transforms import MelSpectrogram\n",
    "\n",
    "from utility.data_loader import EmotionDataset\n",
    "from utility.models import VideoCNN, AudioCNN\n",
    "from utility.fusion import LateFusion"
   ]
  },
  {
   "cell_type": "code",
   "execution_count": 12,
   "id": "dcc59f74-0499-4a8e-b187-ad30f4d8bf8b",
   "metadata": {},
   "outputs": [
    {
     "name": "stdout",
     "output_type": "stream",
     "text": [
      "107\n"
     ]
    }
   ],
   "source": [
    "root_dir = 'data/train' \n",
    "device = torch.device(\"cuda\" if torch.cuda.is_available() else \"cpu\")\n",
    "\n",
    "transform = transforms.Compose([\n",
    "    transforms.Grayscale(num_output_channels=1),\n",
    "    transforms.Resize((112, 112)), #resize should happen before ToTensor.\n",
    "    transforms.ToTensor(),\n",
    "    transforms.Normalize((0.5,), (0.5,))\n",
    "])\n",
    "\n",
    "audio_transform = MelSpectrogram(sample_rate=16000, n_fft=1024, hop_length=512, n_mels=64)\n",
    "\n",
    "dataset = EmotionDataset(root_dir, transform=transform, audio_transform=audio_transform)\n",
    "print(len(dataset))\n",
    "dataloader = DataLoader(dataset, batch_size=32, shuffle=True)"
   ]
  },
  {
   "cell_type": "code",
   "execution_count": 13,
   "id": "8168769f-a7f7-43d3-9526-bc41a698c6c2",
   "metadata": {},
   "outputs": [
    {
     "name": "stderr",
     "output_type": "stream",
     "text": [
      "C:\\Users\\ericw\\AppData\\Local\\Programs\\Python\\Python311\\Lib\\site-packages\\torchvision\\models\\_utils.py:208: UserWarning: The parameter 'pretrained' is deprecated since 0.13 and may be removed in the future, please use 'weights' instead.\n",
      "  warnings.warn(\n",
      "C:\\Users\\ericw\\AppData\\Local\\Programs\\Python\\Python311\\Lib\\site-packages\\torchvision\\models\\_utils.py:223: UserWarning: Arguments other than a weight enum or `None` for 'weights' are deprecated since 0.13 and may be removed in the future. The current behavior is equivalent to passing `weights=ResNet18_Weights.IMAGENET1K_V1`. You can also use `weights=ResNet18_Weights.DEFAULT` to get the most up-to-date weights.\n",
      "  warnings.warn(msg)\n",
      "C:\\Users\\ericw\\AppData\\Local\\Programs\\Python\\Python311\\Lib\\site-packages\\torch\\nn\\modules\\lazy.py:181: UserWarning: Lazy modules are a new feature under heavy development so changes to the API or functionality can happen at any moment.\n",
      "  warnings.warn('Lazy modules are a new feature under heavy development '\n"
     ]
    },
    {
     "name": "stdout",
     "output_type": "stream",
     "text": [
      "Epoch 1/20 | Loss: 3.3164 | Acc: 48.60%\n",
      "Epoch 2/20 | Loss: 5.7304 | Acc: 60.75%\n",
      "Epoch 3/20 | Loss: 2.9563 | Acc: 64.49%\n",
      "Epoch 4/20 | Loss: 5.1392 | Acc: 64.49%\n",
      "Epoch 5/20 | Loss: 2.3156 | Acc: 72.90%\n",
      "Epoch 6/20 | Loss: 2.2153 | Acc: 72.90%\n",
      "Epoch 7/20 | Loss: 2.0781 | Acc: 77.57%\n",
      "Epoch 8/20 | Loss: 2.1691 | Acc: 68.22%\n",
      "Epoch 9/20 | Loss: 3.0365 | Acc: 68.22%\n",
      "Epoch 10/20 | Loss: 2.4589 | Acc: 77.57%\n",
      "Epoch 11/20 | Loss: 1.8690 | Acc: 76.64%\n",
      "Epoch 12/20 | Loss: 1.9943 | Acc: 74.77%\n",
      "Epoch 13/20 | Loss: 2.5030 | Acc: 84.11%\n",
      "Epoch 14/20 | Loss: 1.8801 | Acc: 74.77%\n",
      "Epoch 15/20 | Loss: 1.4672 | Acc: 87.85%\n",
      "Epoch 16/20 | Loss: 2.0163 | Acc: 83.18%\n",
      "Epoch 17/20 | Loss: 1.3988 | Acc: 85.98%\n",
      "Epoch 18/20 | Loss: 1.4313 | Acc: 81.31%\n",
      "Epoch 19/20 | Loss: 1.1329 | Acc: 91.59%\n",
      "Epoch 20/20 | Loss: 1.2087 | Acc: 87.85%\n"
     ]
    }
   ],
   "source": [
    "video_model = VideoCNN(num_classes=2).to(device)\n",
    "audio_model = AudioCNN(num_classes=2).to(device)\n",
    "fusion_model = LateFusion(num_classes=2, fusion_type='mlp').to(device)\n",
    "\n",
    "criterion = nn.CrossEntropyLoss()\n",
    "optimizer = optim.Adam(\n",
    "    list(video_model.parameters()) +\n",
    "    list(audio_model.parameters()) +\n",
    "    list(fusion_model.parameters()),\n",
    "    lr=1e-4\n",
    ")\n",
    "\n",
    "# training\n",
    "num_epochs = 20\n",
    "for epoch in range(num_epochs):\n",
    "    video_model.train()\n",
    "    audio_model.train()\n",
    "    fusion_model.train()\n",
    "\n",
    "    total_loss = 0\n",
    "    correct = 0\n",
    "    total = 0\n",
    "\n",
    "    for spectrograms, frames, labels in dataloader:\n",
    "        spectrograms = spectrograms.to(device)\n",
    "        frames = frames.to(device)\n",
    "        \n",
    "        # label values\n",
    "        # print(\"Batch label values:\", labels)\n",
    "        # print(\"Unique:\", labels.unique())\n",
    "\n",
    "        labels = labels.long().to(device)  # Ensure correct type\n",
    "\n",
    "        optimizer.zero_grad()\n",
    "\n",
    "        video_logits = video_model(frames)           \n",
    "        audio_logits = audio_model(spectrograms)     \n",
    "        fused_logits = fusion_model(video_logits, audio_logits)  \n",
    "\n",
    "        loss = criterion(fused_logits, labels)\n",
    "        loss.backward()\n",
    "        optimizer.step()\n",
    "\n",
    "        total_loss += loss.item()\n",
    "        preds = torch.argmax(fused_logits, dim=1)\n",
    "        correct += (preds == labels).sum().item()\n",
    "        total += labels.size(0)\n",
    "\n",
    "    acc = correct / total * 100\n",
    "    print(f\"Epoch {epoch+1}/{num_epochs} | Loss: {total_loss:.4f} | Acc: {acc:.2f}%\")"
   ]
  },
  {
   "cell_type": "code",
   "execution_count": 14,
   "id": "1b0cc5dc-144c-4850-b7c9-7c30106aab64",
   "metadata": {},
   "outputs": [],
   "source": [
    "# save the model if you want\n",
    "\n",
    "torch.save({\n",
    "    'video_model': video_model.state_dict(),\n",
    "    'audio_model': audio_model.state_dict(),\n",
    "    'fusion_model': fusion_model.state_dict()\n",
    "}, \"rage_detection_fusion_train.pt\")"
   ]
  },
  {
   "cell_type": "code",
   "execution_count": 15,
   "id": "0518d8d9-8e6c-4e58-a18a-da319e03158c",
   "metadata": {},
   "outputs": [
    {
     "name": "stdout",
     "output_type": "stream",
     "text": [
      "\n",
      " Evaluation Metrics:\n",
      "Accuracy     : 0.9907\n",
      "Precision    : 0.9800\n",
      "Recall       : 1.0000\n",
      "F1-score     : 0.9899\n"
     ]
    },
    {
     "data": {
      "image/png": "[encoded data removed]",
      "text/plain": [
       "<Figure size 600x500 with 2 Axes>"
      ]
     },
     "metadata": {},
     "output_type": "display_data"
    }
   ],
   "source": [
    "from sklearn.metrics import accuracy_score, precision_score, recall_score, f1_score, confusion_matrix\n",
    "import matplotlib.pyplot as plt\n",
    "import seaborn as sns\n",
    "\n",
    "def evaluate_model(video_model, audio_model, fusion_model, dataloader, device):\n",
    "    video_model.eval()\n",
    "    audio_model.eval()\n",
    "    fusion_model.eval()\n",
    "\n",
    "    y_true = []\n",
    "    y_pred = []\n",
    "\n",
    "    with torch.no_grad():\n",
    "        for spectrograms, frames, labels in dataloader:\n",
    "            spectrograms = spectrograms.to(device)\n",
    "            frames = frames.to(device)\n",
    "            labels = labels.to(device)\n",
    "\n",
    "            video_logits = video_model(frames)\n",
    "            audio_logits = audio_model(spectrograms)\n",
    "            fused_logits = fusion_model(video_logits, audio_logits)\n",
    "\n",
    "            predictions = torch.argmax(fused_logits, dim=1)\n",
    "\n",
    "            y_true.extend(labels.cpu().numpy())\n",
    "            y_pred.extend(predictions.cpu().numpy())\n",
    "\n",
    "    # metrics\n",
    "    acc = accuracy_score(y_true, y_pred)\n",
    "    prec = precision_score(y_true, y_pred)\n",
    "    rec = recall_score(y_true, y_pred)\n",
    "    f1 = f1_score(y_true, y_pred)\n",
    "    cm = confusion_matrix(y_true, y_pred)\n",
    "\n",
    "    print(f\"\\n Evaluation Metrics:\")\n",
    "    print(f\"Accuracy     : {acc:.4f}\")\n",
    "    print(f\"Precision    : {prec:.4f}\")\n",
    "    print(f\"Recall       : {rec:.4f}\")\n",
    "    print(f\"F1-score     : {f1:.4f}\")\n",
    "\n",
    "    # plot the confusion matrix\n",
    "    class_names = [\"Rage\", \"Not Rage\"]\n",
    "    plt.figure(figsize=(6, 5))\n",
    "    sns.heatmap(cm, annot=True, fmt='d', cmap='Blues',\n",
    "                xticklabels=class_names, yticklabels=class_names)\n",
    "    plt.xlabel(\"Predicted\")\n",
    "    plt.ylabel(\"Actual\")\n",
    "    plt.title(\"Confusion Matrix\")\n",
    "    plt.tight_layout()\n",
    "    plt.show()\n",
    "\n",
    "evaluate_model(video_model, audio_model, fusion_model, dataloader, device)"
   ]
  },
  {
   "cell_type": "markdown",
   "id": "427f51cc-30b0-4515-891f-2ceab4d385d1",
   "metadata": {},
   "source": [
    "# Testing Model Starts Here"
   ]
  },
  {
   "cell_type": "code",
   "execution_count": 16,
   "id": "d8ed364d-1a8f-4dd2-9849-c4113b4eab2e",
   "metadata": {},
   "outputs": [
    {
     "name": "stdout",
     "output_type": "stream",
     "text": [
      "45\n"
     ]
    }
   ],
   "source": [
    "root_dir = 'data/test' \n",
    "device = torch.device(\"cuda\" if torch.cuda.is_available() else \"cpu\")\n",
    "\n",
    "transform = transforms.Compose([\n",
    "    transforms.Grayscale(num_output_channels=1),\n",
    "    transforms.Resize((112, 112)), #resize should happen before ToTensor.\n",
    "    transforms.ToTensor(),\n",
    "    transforms.Normalize((0.5,), (0.5,))\n",
    "])\n",
    "\n",
    "audio_transform = MelSpectrogram(sample_rate=16000, n_fft=1024, hop_length=512, n_mels=64)\n",
    "\n",
    "dataset = EmotionDataset(root_dir, transform=transform, audio_transform=audio_transform)\n",
    "print(len(dataset))\n",
    "dataloader = DataLoader(dataset, batch_size=32, shuffle=True)"
   ]
  },
  {
   "cell_type": "code",
   "execution_count": 17,
   "id": "60cd4721-e416-474c-9e4b-98813ca286aa",
   "metadata": {},
   "outputs": [
    {
     "name": "stderr",
     "output_type": "stream",
     "text": [
      "C:\\Users\\ericw\\AppData\\Local\\Programs\\Python\\Python311\\Lib\\site-packages\\torchvision\\models\\_utils.py:208: UserWarning: The parameter 'pretrained' is deprecated since 0.13 and may be removed in the future, please use 'weights' instead.\n",
      "  warnings.warn(\n",
      "C:\\Users\\ericw\\AppData\\Local\\Programs\\Python\\Python311\\Lib\\site-packages\\torchvision\\models\\_utils.py:223: UserWarning: Arguments other than a weight enum or `None` for 'weights' are deprecated since 0.13 and may be removed in the future. The current behavior is equivalent to passing `weights=ResNet18_Weights.IMAGENET1K_V1`. You can also use `weights=ResNet18_Weights.DEFAULT` to get the most up-to-date weights.\n",
      "  warnings.warn(msg)\n",
      "C:\\Users\\ericw\\AppData\\Local\\Programs\\Python\\Python311\\Lib\\site-packages\\torch\\nn\\modules\\lazy.py:181: UserWarning: Lazy modules are a new feature under heavy development so changes to the API or functionality can happen at any moment.\n",
      "  warnings.warn('Lazy modules are a new feature under heavy development '\n"
     ]
    },
    {
     "name": "stdout",
     "output_type": "stream",
     "text": [
      "Epoch 1/20 | Loss: 1.4582 | Acc: 55.56%\n",
      "Epoch 2/20 | Loss: 1.5415 | Acc: 68.89%\n",
      "Epoch 3/20 | Loss: 1.1325 | Acc: 66.67%\n",
      "Epoch 4/20 | Loss: 1.4672 | Acc: 64.44%\n",
      "Epoch 5/20 | Loss: 1.2044 | Acc: 77.78%\n",
      "Epoch 6/20 | Loss: 1.1160 | Acc: 80.00%\n",
      "Epoch 7/20 | Loss: 1.7441 | Acc: 68.89%\n",
      "Epoch 8/20 | Loss: 1.2675 | Acc: 77.78%\n",
      "Epoch 9/20 | Loss: 0.9545 | Acc: 84.44%\n",
      "Epoch 10/20 | Loss: 2.0947 | Acc: 86.67%\n",
      "Epoch 11/20 | Loss: 1.0845 | Acc: 82.22%\n",
      "Epoch 12/20 | Loss: 0.8837 | Acc: 88.89%\n",
      "Epoch 13/20 | Loss: 2.0102 | Acc: 71.11%\n",
      "Epoch 14/20 | Loss: 1.9465 | Acc: 66.67%\n",
      "Epoch 15/20 | Loss: 3.5170 | Acc: 77.78%\n",
      "Epoch 16/20 | Loss: 0.9050 | Acc: 84.44%\n",
      "Epoch 17/20 | Loss: 2.1823 | Acc: 86.67%\n",
      "Epoch 18/20 | Loss: 0.8637 | Acc: 80.00%\n",
      "Epoch 19/20 | Loss: 0.8241 | Acc: 95.56%\n",
      "Epoch 20/20 | Loss: 0.7560 | Acc: 88.89%\n"
     ]
    }
   ],
   "source": [
    "video_model = VideoCNN(num_classes=2).to(device)\n",
    "audio_model = AudioCNN(num_classes=2).to(device)\n",
    "fusion_model = LateFusion(num_classes=2, fusion_type='mlp').to(device)\n",
    "\n",
    "criterion = nn.CrossEntropyLoss()\n",
    "optimizer = optim.Adam(\n",
    "    list(video_model.parameters()) +\n",
    "    list(audio_model.parameters()) +\n",
    "    list(fusion_model.parameters()),\n",
    "    lr=1e-4\n",
    ")\n",
    "\n",
    "# training\n",
    "num_epochs = 20\n",
    "for epoch in range(num_epochs):\n",
    "    video_model.train()\n",
    "    audio_model.train()\n",
    "    fusion_model.train()\n",
    "\n",
    "    total_loss = 0\n",
    "    correct = 0\n",
    "    total = 0\n",
    "\n",
    "    for spectrograms, frames, labels in dataloader:\n",
    "        spectrograms = spectrograms.to(device)\n",
    "        frames = frames.to(device)\n",
    "        \n",
    "        # label values\n",
    "        # print(\"Batch label values:\", labels)\n",
    "        # print(\"Unique:\", labels.unique())\n",
    "\n",
    "        labels = labels.long().to(device)  # ensure correct type\n",
    "\n",
    "        optimizer.zero_grad()\n",
    "\n",
    "        video_logits = video_model(frames)           \n",
    "        audio_logits = audio_model(spectrograms)     \n",
    "        fused_logits = fusion_model(video_logits, audio_logits)  \n",
    "\n",
    "        loss = criterion(fused_logits, labels)\n",
    "        loss.backward()\n",
    "        optimizer.step()\n",
    "\n",
    "        total_loss += loss.item()\n",
    "        preds = torch.argmax(fused_logits, dim=1)\n",
    "        correct += (preds == labels).sum().item()\n",
    "        total += labels.size(0)\n",
    "\n",
    "    acc = correct / total * 100\n",
    "    print(f\"Epoch {epoch+1}/{num_epochs} | Loss: {total_loss:.4f} | Acc: {acc:.2f}%\")"
   ]
  },
  {
   "cell_type": "code",
   "execution_count": 18,
   "id": "205a67d3-4900-4e03-8225-0dbeaeb9b84d",
   "metadata": {},
   "outputs": [],
   "source": [
    "# save the model if you want\n",
    "\n",
    "torch.save({\n",
    "    'video_model': video_model.state_dict(),\n",
    "    'audio_model': audio_model.state_dict(),\n",
    "    'fusion_model': fusion_model.state_dict()\n",
    "}, \"rage_detection_fusion_test.pt\")"
   ]
  },
  {
   "cell_type": "code",
   "execution_count": 19,
   "id": "6789441f-b779-4dff-9fee-4baba6019111",
   "metadata": {},
   "outputs": [
    {
     "name": "stdout",
     "output_type": "stream",
     "text": [
      "\n",
      " Evaluation Metrics:\n",
      "Accuracy     : 0.8889\n",
      "Precision    : 1.0000\n",
      "Recall       : 0.6875\n",
      "F1-score     : 0.8148\n"
     ]
    },
    {
     "data": {
      "image/png": "[encoded data removed]",
      "text/plain": [
       "<Figure size 600x500 with 2 Axes>"
      ]
     },
     "metadata": {},
     "output_type": "display_data"
    }
   ],
   "source": [
    "def evaluate_model(video_model, audio_model, fusion_model, dataloader, device):\n",
    "    video_model.eval()\n",
    "    audio_model.eval()\n",
    "    fusion_model.eval()\n",
    "\n",
    "    y_true = []\n",
    "    y_pred = []\n",
    "\n",
    "    with torch.no_grad():\n",
    "        for spectrograms, frames, labels in dataloader:\n",
    "            spectrograms = spectrograms.to(device)\n",
    "            frames = frames.to(device)\n",
    "            labels = labels.to(device)\n",
    "\n",
    "            video_logits = video_model(frames)\n",
    "            audio_logits = audio_model(spectrograms)\n",
    "            fused_logits = fusion_model(video_logits, audio_logits)\n",
    "\n",
    "            predictions = torch.argmax(fused_logits, dim=1)\n",
    "\n",
    "            y_true.extend(labels.cpu().numpy())\n",
    "            y_pred.extend(predictions.cpu().numpy())\n",
    "\n",
    "    # metrics\n",
    "    acc = accuracy_score(y_true, y_pred)\n",
    "    prec = precision_score(y_true, y_pred)\n",
    "    rec = recall_score(y_true, y_pred)\n",
    "    f1 = f1_score(y_true, y_pred)\n",
    "    cm = confusion_matrix(y_true, y_pred)\n",
    "\n",
    "    print(f\"\\n Evaluation Metrics:\")\n",
    "    print(f\"Accuracy     : {acc:.4f}\")\n",
    "    print(f\"Precision    : {prec:.4f}\")\n",
    "    print(f\"Recall       : {rec:.4f}\")\n",
    "    print(f\"F1-score     : {f1:.4f}\")\n",
    "\n",
    "    # plot the confusion matrix\n",
    "    class_names = [\"Rage\", \"Not Rage\"]\n",
    "    plt.figure(figsize=(6, 5))\n",
    "    sns.heatmap(cm, annot=True, fmt='d', cmap='Blues',\n",
    "                xticklabels=class_names, yticklabels=class_names)\n",
    "    plt.xlabel(\"Predicted\")\n",
    "    plt.ylabel(\"Actual\")\n",
    "    plt.title(\"Confusion Matrix\")\n",
    "    plt.tight_layout()\n",
    "    plt.show()\n",
    "\n",
    "evaluate_model(video_model, audio_model, fusion_model, dataloader, device)"
   ]
  },
  {
   "cell_type": "code",
   "execution_count": null,
   "id": "ba89b72a-7b20-4ae7-ace5-c2afe35608a0",
   "metadata": {},
   "outputs": [],
   "source": []
  }
 ],
 "metadata": {
  "kernelspec": {
   "display_name": "Python 3 (ipykernel)",
   "language": "python",
   "name": "python3"
  },
  "language_info": {
   "codemirror_mode": {
    "name": "ipython",
    "version": 3
   },
   "file_extension": ".py",
   "mimetype": "text/x-python",
   "name": "python",
   "nbconvert_exporter": "python",
   "pygments_lexer": "ipython3",
   "version": "3.11.9"
  }
 },
 "nbformat": 4,
 "nbformat_minor": 5
}
