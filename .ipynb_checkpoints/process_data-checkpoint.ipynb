{
 "cells": [
  {
   "cell_type": "markdown",
   "id": "9793790e-2927-460e-98d7-ec3a568a112f",
   "metadata": {},
   "source": [
    "# Some Preprocessing stuff that needs to be run"
   ]
  },
  {
   "cell_type": "code",
   "execution_count": 1,
   "id": "21f3488d-d3c0-46dc-a535-daf40f0324b5",
   "metadata": {},
   "outputs": [],
   "source": [
    "import numpy as np\n",
    "import matplotlib.pyplot as plt\n",
    "import pandas as pd\n",
    "from sklearn.model_selection import train_test_split\n",
    "\n",
    "import os\n",
    "from pathlib import Path"
   ]
  },
  {
   "cell_type": "code",
   "execution_count": 2,
   "id": "84ff2aa1-d71b-406a-a434-aa3cfca63f0a",
   "metadata": {},
   "outputs": [],
   "source": [
    "directory = os.getcwd() + '\\\\data\\\\ourData'"
   ]
  },
  {
   "cell_type": "code",
   "execution_count": 3,
   "id": "12e1089e-091e-4614-8541-f96985827a86",
   "metadata": {},
   "outputs": [],
   "source": [
    "data_names = {\"name\":[], \"label\":[]}\n",
    "for folder in sorted(os.listdir(directory)):  \n",
    "    if (folder[0:5] == \"frame\"):\n",
    "        data_names[\"name\"].append(folder)\n",
    "        data_names[\"label\"].append(folder.split(\"_\")[2][0:4])"
   ]
  },
  {
   "cell_type": "code",
   "execution_count": 4,
   "id": "a6e1c226-8529-4105-8f8b-6deab1da5327",
   "metadata": {},
   "outputs": [
    {
     "data": {
      "text/html": [
       "<div>\n",
       "<style scoped>\n",
       "    .dataframe tbody tr th:only-of-type {\n",
       "        vertical-align: middle;\n",
       "    }\n",
       "\n",
       "    .dataframe tbody tr th {\n",
       "        vertical-align: top;\n",
       "    }\n",
       "\n",
       "    .dataframe thead th {\n",
       "        text-align: right;\n",
       "    }\n",
       "</style>\n",
       "<table border=\"1\" class=\"dataframe\">\n",
       "  <thead>\n",
       "    <tr style=\"text-align: right;\">\n",
       "      <th></th>\n",
       "      <th>name</th>\n",
       "      <th>label</th>\n",
       "    </tr>\n",
       "  </thead>\n",
       "  <tbody>\n",
       "    <tr>\n",
       "      <th>0</th>\n",
       "      <td>frames_eric_excitement1</td>\n",
       "      <td>exci</td>\n",
       "    </tr>\n",
       "    <tr>\n",
       "      <th>1</th>\n",
       "      <td>frames_eric_excitement10</td>\n",
       "      <td>exci</td>\n",
       "    </tr>\n",
       "    <tr>\n",
       "      <th>2</th>\n",
       "      <td>frames_eric_excitement11</td>\n",
       "      <td>exci</td>\n",
       "    </tr>\n",
       "    <tr>\n",
       "      <th>3</th>\n",
       "      <td>frames_eric_excitement12</td>\n",
       "      <td>exci</td>\n",
       "    </tr>\n",
       "    <tr>\n",
       "      <th>4</th>\n",
       "      <td>frames_eric_excitement2</td>\n",
       "      <td>exci</td>\n",
       "    </tr>\n",
       "    <tr>\n",
       "      <th>...</th>\n",
       "      <td>...</td>\n",
       "      <td>...</td>\n",
       "    </tr>\n",
       "    <tr>\n",
       "      <th>198</th>\n",
       "      <td>frames_trevor_rage5</td>\n",
       "      <td>rage</td>\n",
       "    </tr>\n",
       "    <tr>\n",
       "      <th>199</th>\n",
       "      <td>frames_trevor_rage6</td>\n",
       "      <td>rage</td>\n",
       "    </tr>\n",
       "    <tr>\n",
       "      <th>200</th>\n",
       "      <td>frames_trevor_rage7</td>\n",
       "      <td>rage</td>\n",
       "    </tr>\n",
       "    <tr>\n",
       "      <th>201</th>\n",
       "      <td>frames_trevor_rage8</td>\n",
       "      <td>rage</td>\n",
       "    </tr>\n",
       "    <tr>\n",
       "      <th>202</th>\n",
       "      <td>frames_trevor_rage9</td>\n",
       "      <td>rage</td>\n",
       "    </tr>\n",
       "  </tbody>\n",
       "</table>\n",
       "<p>203 rows × 2 columns</p>\n",
       "</div>"
      ],
      "text/plain": [
       "                         name label\n",
       "0     frames_eric_excitement1  exci\n",
       "1    frames_eric_excitement10  exci\n",
       "2    frames_eric_excitement11  exci\n",
       "3    frames_eric_excitement12  exci\n",
       "4     frames_eric_excitement2  exci\n",
       "..                        ...   ...\n",
       "198       frames_trevor_rage5  rage\n",
       "199       frames_trevor_rage6  rage\n",
       "200       frames_trevor_rage7  rage\n",
       "201       frames_trevor_rage8  rage\n",
       "202       frames_trevor_rage9  rage\n",
       "\n",
       "[203 rows x 2 columns]"
      ]
     },
     "execution_count": 4,
     "metadata": {},
     "output_type": "execute_result"
    }
   ],
   "source": [
    "data_names_df = pd.DataFrame.from_dict(data_names)\n",
    "data_names_df"
   ]
  },
  {
   "cell_type": "code",
   "execution_count": 5,
   "id": "5de727e6-bfc1-4fcc-a867-17c66f20ff20",
   "metadata": {},
   "outputs": [
    {
     "data": {
      "text/plain": [
       "label\n",
       "exci    51\n",
       "fear    48\n",
       "frus    17\n",
       "rage    87\n",
       "Name: label, dtype: int64"
      ]
     },
     "execution_count": 5,
     "metadata": {},
     "output_type": "execute_result"
    }
   ],
   "source": [
    "data_names_df.groupby(['label'])['label'].count()"
   ]
  },
  {
   "cell_type": "code",
   "execution_count": 6,
   "id": "4132cefa-fff5-4a6e-99ec-50651bcb3c72",
   "metadata": {},
   "outputs": [],
   "source": [
    "X_train, X_test, y_train, y_test = train_test_split(data_names_df[\"name\"], data_names_df[\"label\"], test_size=0.3, random_state=2)"
   ]
  },
  {
   "cell_type": "code",
   "execution_count": 7,
   "id": "0841acca-f5d7-41db-adeb-75df3ba39988",
   "metadata": {},
   "outputs": [],
   "source": [
    "to_test = X_test.sort_values(ascending=True)"
   ]
  },
  {
   "cell_type": "code",
   "execution_count": 8,
   "id": "aef6836e-a9c1-4cad-8b91-44fed71aae16",
   "metadata": {},
   "outputs": [
    {
     "data": {
      "text/plain": [
       "2      frames_eric_excitement11\n",
       "3      frames_eric_excitement12\n",
       "5       frames_eric_excitement3\n",
       "6       frames_eric_excitement4\n",
       "9       frames_eric_excitement7\n",
       "                 ...           \n",
       "185        frames_trevor_rage11\n",
       "190        frames_trevor_rage16\n",
       "194         frames_trevor_rage2\n",
       "196         frames_trevor_rage3\n",
       "202         frames_trevor_rage9\n",
       "Name: name, Length: 61, dtype: object"
      ]
     },
     "execution_count": 8,
     "metadata": {},
     "output_type": "execute_result"
    }
   ],
   "source": [
    "to_test"
   ]
  },
  {
   "cell_type": "code",
   "execution_count": 9,
   "id": "3e26168e-927f-4225-946e-d1b2ed0316cc",
   "metadata": {},
   "outputs": [
    {
     "data": {
      "text/plain": [
       "24       frames_eric_frustration3\n",
       "94           frames_sepehr_fear12\n",
       "106           frames_sepehr_fear5\n",
       "8         frames_eric_excitement6\n",
       "178    frames_trevor_frustration3\n",
       "                  ...            \n",
       "43             frames_eric_rage20\n",
       "22      frames_eric_frustration10\n",
       "72              frames_eric_rage9\n",
       "15              frames_eric_fear4\n",
       "168           frames_trevor_fear2\n",
       "Name: name, Length: 142, dtype: object"
      ]
     },
     "execution_count": 9,
     "metadata": {},
     "output_type": "execute_result"
    }
   ],
   "source": [
    "X_train"
   ]
  },
  {
   "cell_type": "code",
   "execution_count": 10,
   "id": "1cdf03fd-230a-4976-8ada-cfd67a09e175",
   "metadata": {},
   "outputs": [],
   "source": [
    "to_test.to_csv('test_data.csv', index=False) "
   ]
  }
 ],
 "metadata": {
  "kernelspec": {
   "display_name": "Python 3 (ipykernel)",
   "language": "python",
   "name": "python3"
  },
  "language_info": {
   "codemirror_mode": {
    "name": "ipython",
    "version": 3
   },
   "file_extension": ".py",
   "mimetype": "text/x-python",
   "name": "python",
   "nbconvert_exporter": "python",
   "pygments_lexer": "ipython3",
   "version": "3.11.9"
  }
 },
 "nbformat": 4,
 "nbformat_minor": 5
}
