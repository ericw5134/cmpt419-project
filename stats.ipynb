{
 "cells": [
  {
   "cell_type": "code",
   "execution_count": 1,
   "id": "1ad2f3ef-1ee4-48e3-8857-94df37797add",
   "metadata": {},
   "outputs": [],
   "source": [
    "import numpy as np\n",
    "import matplotlib.pyplot as plt\n",
    "import pandas as pd\n",
    "from sklearn.model_selection import train_test_split\n",
    "\n",
    "import os\n",
    "from pathlib import Path"
   ]
  },
  {
   "cell_type": "code",
   "execution_count": 2,
   "id": "b9368b7f-72df-41c0-a1b3-a43dc1f475fd",
   "metadata": {},
   "outputs": [],
   "source": [
    "directory = os.getcwd() + '\\\\data\\\\ourData'"
   ]
  },
  {
   "cell_type": "code",
   "execution_count": 3,
   "id": "a30ccc8e-4d3d-405e-a258-bff75213c799",
   "metadata": {},
   "outputs": [],
   "source": [
    "data_names = {\"name\":[], \"label\":[]}\n",
    "for file in sorted(os.listdir(directory)):\n",
    "    # Note: I moved data.txt and the python scripts out of the folder first.\n",
    "    data_names[\"name\"].append(file)\n",
    "    data_names[\"label\"].append(file.split(\"_\")[1][0:4])"
   ]
  },
  {
   "cell_type": "code",
   "execution_count": 4,
   "id": "51c56269-2bbe-4267-82d5-6cebfba9781f",
   "metadata": {
    "scrolled": true
   },
   "outputs": [
    {
     "data": {
      "text/html": [
       "<div>\n",
       "<style scoped>\n",
       "    .dataframe tbody tr th:only-of-type {\n",
       "        vertical-align: middle;\n",
       "    }\n",
       "\n",
       "    .dataframe tbody tr th {\n",
       "        vertical-align: top;\n",
       "    }\n",
       "\n",
       "    .dataframe thead th {\n",
       "        text-align: right;\n",
       "    }\n",
       "</style>\n",
       "<table border=\"1\" class=\"dataframe\">\n",
       "  <thead>\n",
       "    <tr style=\"text-align: right;\">\n",
       "      <th></th>\n",
       "      <th>name</th>\n",
       "      <th>label</th>\n",
       "    </tr>\n",
       "  </thead>\n",
       "  <tbody>\n",
       "    <tr>\n",
       "      <th>0</th>\n",
       "      <td>eric_excitement1.mp4</td>\n",
       "      <td>exci</td>\n",
       "    </tr>\n",
       "    <tr>\n",
       "      <th>1</th>\n",
       "      <td>eric_excitement10.mp4</td>\n",
       "      <td>exci</td>\n",
       "    </tr>\n",
       "    <tr>\n",
       "      <th>2</th>\n",
       "      <td>eric_excitement11.mp4</td>\n",
       "      <td>exci</td>\n",
       "    </tr>\n",
       "    <tr>\n",
       "      <th>3</th>\n",
       "      <td>eric_excitement12.mp4</td>\n",
       "      <td>exci</td>\n",
       "    </tr>\n",
       "    <tr>\n",
       "      <th>4</th>\n",
       "      <td>eric_excitement2.mp4</td>\n",
       "      <td>exci</td>\n",
       "    </tr>\n",
       "    <tr>\n",
       "      <th>...</th>\n",
       "      <td>...</td>\n",
       "      <td>...</td>\n",
       "    </tr>\n",
       "    <tr>\n",
       "      <th>198</th>\n",
       "      <td>trevor_rage5.mp4</td>\n",
       "      <td>rage</td>\n",
       "    </tr>\n",
       "    <tr>\n",
       "      <th>199</th>\n",
       "      <td>trevor_rage6.mp4</td>\n",
       "      <td>rage</td>\n",
       "    </tr>\n",
       "    <tr>\n",
       "      <th>200</th>\n",
       "      <td>trevor_rage7.mp4</td>\n",
       "      <td>rage</td>\n",
       "    </tr>\n",
       "    <tr>\n",
       "      <th>201</th>\n",
       "      <td>trevor_rage8.mp4</td>\n",
       "      <td>rage</td>\n",
       "    </tr>\n",
       "    <tr>\n",
       "      <th>202</th>\n",
       "      <td>trevor_rage9.mp4</td>\n",
       "      <td>rage</td>\n",
       "    </tr>\n",
       "  </tbody>\n",
       "</table>\n",
       "<p>203 rows × 2 columns</p>\n",
       "</div>"
      ],
      "text/plain": [
       "                      name label\n",
       "0     eric_excitement1.mp4  exci\n",
       "1    eric_excitement10.mp4  exci\n",
       "2    eric_excitement11.mp4  exci\n",
       "3    eric_excitement12.mp4  exci\n",
       "4     eric_excitement2.mp4  exci\n",
       "..                     ...   ...\n",
       "198       trevor_rage5.mp4  rage\n",
       "199       trevor_rage6.mp4  rage\n",
       "200       trevor_rage7.mp4  rage\n",
       "201       trevor_rage8.mp4  rage\n",
       "202       trevor_rage9.mp4  rage\n",
       "\n",
       "[203 rows x 2 columns]"
      ]
     },
     "execution_count": 4,
     "metadata": {},
     "output_type": "execute_result"
    }
   ],
   "source": [
    "data_names_df = pd.DataFrame.from_dict(data_names)\n",
    "data_names_df"
   ]
  },
  {
   "cell_type": "code",
   "execution_count": 5,
   "id": "89a524b6-96f1-4d46-b4bc-a8c88b71cf6e",
   "metadata": {},
   "outputs": [
    {
     "data": {
      "text/plain": [
       "label\n",
       "exci    51\n",
       "fear    48\n",
       "frus    17\n",
       "rage    87\n",
       "Name: label, dtype: int64"
      ]
     },
     "execution_count": 5,
     "metadata": {},
     "output_type": "execute_result"
    }
   ],
   "source": [
    "counts = data_names_df.groupby(['label'])['label'].count()\n",
    "counts"
   ]
  },
  {
   "cell_type": "code",
   "execution_count": 6,
   "id": "6f1a3672-ef89-4551-ac2a-c2be1c4a618c",
   "metadata": {},
   "outputs": [
    {
     "data": {
      "image/png": "[encoded data removed]",
      "text/plain": [
       "<Figure size 640x480 with 1 Axes>"
      ]
     },
     "metadata": {},
     "output_type": "display_data"
    }
   ],
   "source": [
    "plt.bar(np.array([\"Excitement\", \"Fear\", \"Frustration\", \"Rage\"]),counts)\n",
    "plt.show()"
   ]
  },
  {
   "cell_type": "code",
   "execution_count": 7,
   "id": "7cb92c4b-0791-4e48-921e-a1832c855f1b",
   "metadata": {},
   "outputs": [
    {
     "data": {
      "text/plain": [
       "0.42857142857142855"
      ]
     },
     "execution_count": 7,
     "metadata": {},
     "output_type": "execute_result"
    }
   ],
   "source": [
    "counts.iloc[3] / len(data_names_df)"
   ]
  }
 ],
 "metadata": {
  "kernelspec": {
   "display_name": "Python 3 (ipykernel)",
   "language": "python",
   "name": "python3"
  },
  "language_info": {
   "codemirror_mode": {
    "name": "ipython",
    "version": 3
   },
   "file_extension": ".py",
   "mimetype": "text/x-python",
   "name": "python",
   "nbconvert_exporter": "python",
   "pygments_lexer": "ipython3",
   "version": "3.12.3"
  }
 },
 "nbformat": 4,
 "nbformat_minor": 5
}
